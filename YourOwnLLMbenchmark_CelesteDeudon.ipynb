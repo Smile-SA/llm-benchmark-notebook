{
  "metadata": {
    "kernelspec": {
      "language": "python",
      "display_name": "Python 3",
      "name": "python3"
    },
    "language_info": {
      "pygments_lexer": "ipython3",
      "nbconvert_exporter": "python",
      "version": "3.6.4",
      "file_extension": ".py",
      "codemirror_mode": {
        "name": "ipython",
        "version": 3
      },
      "name": "python",
      "mimetype": "text/x-python"
    },
    "kaggle": {
      "accelerator": "none",
      "dataSources": [],
      "isInternetEnabled": true,
      "language": "python",
      "sourceType": "notebook",
      "isGpuEnabled": false
    },
    "colab": {
      "name": "YourOwnLLMbenchmark_CelesteDeudon",
      "provenance": []
    }
  },
  "nbformat_minor": 0,
  "nbformat": 4,
  "cells": [
    {
      "cell_type": "markdown",
      "source": [
        "# 🚨 How it works:\n",
        "\n",
        "READ ME:\n",
        "1.  Run the 🌀 *Setting Up* section, to dowload and install modules needed. Please enter your own Hugging Face token in the token cell (3rd cell in 🌀 *Setting Up*). Make sure you have requested all accesses as well as signed the agreements needed for the LLMs you are testing.\n",
        "2. In the 🌀 *TESTING* section, run whichever 🔆 *Model* section of the LLM you want to test."
      ],
      "metadata": {
        "id": "F-Lbl9dUz9rh"
      }
    },
    {
      "cell_type": "markdown",
      "source": [
        "#  🌀 Setting Up"
      ],
      "metadata": {
        "id": "EhlMNZO4z9ri"
      }
    },
    {
      "cell_type": "code",
      "source": [
        "! pip install transformers -q\n",
        "! pip install sentencepiece -q\n",
        "! pip install accelerate -q\n",
        "! pip install ipywidgets -q"
      ],
      "metadata": {
        "_uuid": "8f2839f25d086af736a60e9eeb907d3b93b6e0e5",
        "_cell_guid": "b1076dfc-b9ad-4769-8c92-a6c4dae69d19",
        "trusted": true,
        "id": "zTUAgo4wz9rj"
      },
      "execution_count": null,
      "outputs": []
    },
    {
      "cell_type": "code",
      "source": [
        "# Import all needed packages\n",
        "\n",
        "from transformers import AutoTokenizer, AutoModelForCausalLM\n",
        "from transformers import pipeline #fastest way to use pre-trained models for interferance\n",
        "import torch\n",
        "import os\n",
        "import gc\n",
        "import pandas as pd\n",
        "import ast\n",
        "import time\n",
        "import re"
      ],
      "metadata": {
        "id": "EM0cK6Qoz9rk"
      },
      "execution_count": null,
      "outputs": []
    },
    {
      "cell_type": "code",
      "source": [
        "# Create a token in Hugging Face, and copy it instead of YOUR TOKEN:\n",
        "\n",
        "!python -c \"from huggingface_hub.hf_api import HfFolder; HfFolder.save_token('YOUR TOKEN')\""
      ],
      "metadata": {
        "id": "kUKXNb5wz9rk"
      },
      "execution_count": null,
      "outputs": []
    },
    {
      "cell_type": "markdown",
      "source": [
        "# 🌀 TESTING\n",
        "\n",
        "Choose the model you want to test.\n",
        "\n",
        "You need 2 things for the following program to work and return the benchmark table in math and code: the name of your LLM and the offcial name.\n",
        "\n",
        "Ex:\n",
        "\n",
        "NAMEofLLM = Gemma2B\n",
        "\n",
        "GOtoNAME = google/gemma-2b (directly copied from Hugging Face name)\n",
        "\n",
        "In the 11 cells below you will need to change NAMEofLLM and GOtoNAME with your model's corresponding answers.\n",
        "\n",
        "Running all the cells within your 🔆 *Model* section will generate at the end 2 benchmark tables (code + math) for the chosen LLM model.\n",
        "\n",
        "These 🔆 *Model* section included 11 cells:\n",
        "- Dowloading/Uplaoding the LLM model and tokenizer in question needed for Code Evaluation*\n",
        "- CODE PROMPTING = the actual evaluation of the LLM for code*\n",
        "- the head() to view final result of CODE PROMPTING in a cleaner way\n",
        "- removing the GPU that the LLM model for code occupied using gc (garbage collection)*\n",
        "- checking through smi that the GPU is gone and we have space\n",
        "- Dowloading/Uplaoding the LLM model and tokenizer in question needed for Math Evaluation*\n",
        "- MATH PROMPTING = the actual evaluation of the LLM for math*\n",
        "- the head() to view final result of MATH PROMPTING in a cleaner way\n",
        "- removing the GPU that the LLM model_pipeline for math occupied using gc (garbage collection)*\n",
        "- checking through smi that the GPU is gone and we have space\n",
        "- Formating the Code and Math benchmark tables into a clean viewing experience**\n",
        "\n",
        "Symbol * = Needed, must run\n",
        "\n",
        "Symbol ** = Not mandatory but highly recommended if all needed cells have been executed"
      ],
      "metadata": {
        "id": "vZ69ECoYz9rl"
      }
    },
    {
      "cell_type": "code",
      "source": [
        "#Doaloading the model\n",
        "model = AutoModelForCausalLM.from_pretrained(\"GOtoNAME\", trust_remote_code=True, torch_dtype=torch.bfloat16).cuda()\n",
        "\n",
        "\n",
        "#Tokenizer\n",
        "tokenizer = AutoTokenizer.from_pretrained(\"GOtoNAME\", trust_remote_code=True)"
      ],
      "metadata": {
        "id": "An3PvJkRz9rm"
      },
      "execution_count": null,
      "outputs": []
    },
    {
      "cell_type": "code",
      "source": [
        "# CODE PROMPTING\n",
        "\n",
        "\n",
        "import pandas as pd\n",
        "import ast\n",
        "import time\n",
        "\n",
        "\n",
        "#To prevent this error: Error: cutlassF: no kernel found to launch!\n",
        "torch.backends.cuda.enable_mem_efficient_sdp(False)\n",
        "torch.backends.cuda.enable_flash_sdp(False)\n",
        "\n",
        "\n",
        "\n",
        "\n",
        "# Define the prompts for Code/Python testing\n",
        "prompts = [\n",
        "\"#You are an expert Python programmer, and here is your task: Write a Python function to print 'Hello, World!'. Print just the function without any further informations.\",\n",
        "\"#You are an expert Python programmer, and here is your task: Write a Python function to count the number of vowels in a given string. Print just the function without any further informations.\",\n",
        "\"#You are an expert Python programmer, and here is your task: Write a Python function to reverse a given list in-place. Print just the function without any further informations.\",\n",
        "\"#You are an expert Python programmer, and here is your task: Write a Python function to remove duplicates from a given list. Print just the function without any further informations.\",\n",
        "\"#You are an expert Python programmer, and here is your task: Write a Python function to check if a given number is even or odd. Print just the function without any further informations.\",\n",
        "]\n",
        "\n",
        "\n",
        "\n",
        "\n",
        "# Define the test names (for columns)\n",
        "\n",
        "\n",
        "test_names = [\n",
        "   \"Print Hello World test\",\n",
        "   \"Vowel Count test\",\n",
        "   \"Reverse List test\",\n",
        "   \"Remove Duplicates test\",\n",
        "   \"Even/Odd test\"\n",
        "]\n",
        "\n",
        "\n",
        "# Create the DataFrame with the test column names\n",
        "benchmarkCodeNAMEofLLM = pd.DataFrame(index=[\"GOtoNAME\"], columns=test_names)\n",
        "\n",
        "\n",
        "\n",
        "\n",
        "\n",
        "\n",
        "for i, prompt in enumerate(prompts):\n",
        "   try:\n",
        "       # Measure the time it took to generate the code\n",
        "       #torch.manual_seed(0)\n",
        "       start_time = time.time()\n",
        "       # Use the pre-loaded model\n",
        "       inputs = tokenizer(prompt, return_tensors=\"pt\").to(model.device)\n",
        "       outputs = model.generate(**inputs, max_length=128)\n",
        "       code = tokenizer.decode(outputs[0], skip_special_tokens=True)\n",
        "       #print(code) #IF NEED GENERATED CODE PRINTED\n",
        "       end_time = time.time()\n",
        "       generation_time = end_time - start_time\n",
        "\n",
        "\n",
        "       # Extract the function definition from the code\n",
        "       try:\n",
        "           tree = ast.parse(code)\n",
        "           function_def = next((node for node in ast.walk(tree) if isinstance(node, ast.FunctionDef)), None)\n",
        "           if function_def:\n",
        "               function_name = function_def.name\n",
        "               code = ast.unparse(function_def)\n",
        "               #print(code) #IF NEED GENERATED WORKING (True) CODE PRINTED\n",
        "           else:\n",
        "               #print(\"invalid\",code) #IF NEED GENERATED NOT WORKING (False) CODE PRINTED\n",
        "               code = None\n",
        "\n",
        "\n",
        "       except SyntaxError:\n",
        "       #    print(e)\n",
        "            code = None\n",
        "\n",
        "\n",
        "       if code:\n",
        "           # Execute the code\n",
        "           exec(code)\n",
        "           # Test the code\n",
        "           if prompt.startswith(\"#You are an expert Python programmer, and here is your task: Write a Python function to print 'Hello, World!'.\"):\n",
        "               # Test the print helloworld function\n",
        "               result = globals()[function_name]()==  print(\"Hello, World!\")\n",
        "               print(f\"Print Hello World test: {result}\")\n",
        "\n",
        "\n",
        "           elif prompt.startswith(\"#You are an expert Python programmer, and here is your task: Write a Python function to count the number of vowels in a given string.\"):\n",
        "               # Test the vowel count function\n",
        "               result = (globals()[function_name](\"hello\") == 2) and (globals()[function_name](\"Maggie Rogers\") == 5)\n",
        "               print(f\"Vowel Count test: {result}\")\n",
        "\n",
        "\n",
        "           elif prompt.startswith(\"#You are an expert Python programmer, and here is your task: Write a Python function to reverse a given list in-place.\"):\n",
        "               # Test the reverse list function\n",
        "               list1 = [1, 2, 3, 4, 5]\n",
        "               list2 = [16, 5, 1, 10, 0, 7]\n",
        "               list3 = [3]\n",
        "               list4 = []\n",
        "               result = (globals()[function_name](list1) == [5, 4, 3, 2, 1]) and (globals()[function_name](list2) == [7, 0, 10, 1, 5, 16]) and (globals()[function_name](list3) == [3]) and (globals()[function_name](list4) == [])\n",
        "               print(f\"Reverse List test: {result}\")\n",
        "\n",
        "\n",
        "           elif prompt.startswith(\"#You are an expert Python programmer, and here is your task: Write a Python function to remove duplicates from a given list.\"):\n",
        "               # Test the remove duplicates function\n",
        "               result = (globals()[function_name]([1, 1, 2, 2, 3, 3, 4, 5, 5]) == [1, 2, 3, 4, 5]) and (globals()[function_name]([1, 1, 1, 1, 1, 1]) == [1])\n",
        "               print(f\"Remove Duplicates test: {result}\")\n",
        "\n",
        "\n",
        "           elif prompt.startswith(\"#You are an expert Python programmer, and here is your task: Write a Python function to check if a given number is even or odd.\"):\n",
        "               # Test the even/odd function\n",
        "               result = (globals()[function_name](10) == True) and (globals()[function_name](11) == False)\n",
        "               print(f\"Even/Odd test: {result}\")\n",
        "\n",
        "\n",
        "           # Store the result in the DataFrame\n",
        "           benchmarkCodeNAMEofLLM.at[\"GOtoNAME\", test_names[i]] = f\"{('Yes' if result else 'No')} ({generation_time:.2f}s)\"\n",
        "   except Exception as e:\n",
        "       # Catch any exceptions, including GPU crashes\n",
        "       benchmarkCodeNAMEofLLM.at[\"GOtoNAME\", test_names[i]] = f\"Error: {e}\"\n",
        "\n",
        "\n",
        "# Print the benchmark table\n",
        "print(benchmarkCodeNAMEofLLM)"
      ],
      "metadata": {
        "id": "TbPCkQHkz9rn"
      },
      "execution_count": null,
      "outputs": []
    },
    {
      "cell_type": "code",
      "source": [
        "benchmarkCodeNAMEofLLM.head()"
      ],
      "metadata": {
        "id": "XZ56zwy-z9ro"
      },
      "execution_count": null,
      "outputs": []
    },
    {
      "cell_type": "code",
      "source": [
        "model = None\n",
        "gc.collect()\n",
        "torch.cuda.empty_cache()"
      ],
      "metadata": {
        "id": "Le7zkBmQz9ro"
      },
      "execution_count": null,
      "outputs": []
    },
    {
      "cell_type": "code",
      "source": [
        "! nvidia-smi"
      ],
      "metadata": {
        "id": "AHYHXA7lz9rp"
      },
      "execution_count": null,
      "outputs": []
    },
    {
      "cell_type": "code",
      "source": [
        "#Download and save the model\n",
        "\n",
        "\n",
        "model_pipeline = pipeline(model=\"GOtoNAME\",\n",
        "                           torch_dtype=torch.bfloat16, # bytes precisions\n",
        "                           trust_remote_code=True,\n",
        "                           device_map=\"auto\" # will use automatically which best gpu/cpu for model\n",
        "                        )\n",
        "\n",
        "\n",
        "tokenizer = AutoTokenizer.from_pretrained(\"GOtoNAME\", trust_remote_code=True)"
      ],
      "metadata": {
        "id": "DcCnnnXvz9rp"
      },
      "execution_count": null,
      "outputs": []
    },
    {
      "cell_type": "code",
      "source": [
        "# MATH PROMPTING\n",
        "\n",
        "\n",
        "import torch\n",
        "import pandas as pd\n",
        "import ast\n",
        "import time\n",
        "import re\n",
        "\n",
        "\n",
        "\n",
        "\n",
        "#To prevent this error: Error: cutlassF: no kernel found to launch!\n",
        "torch.backends.cuda.enable_mem_efficient_sdp(False)\n",
        "torch.backends.cuda.enable_flash_sdp(False)\n",
        "\n",
        "\n",
        "\n",
        "\n",
        "# Define the prompts for Code/Python testing\n",
        "prompts = [\n",
        "\"You are an expert Mathematician. You are good at performing and explaining Mathematics concepts in simple words. Help as much as you can. Here is your problem: What is the solution of (3+8)-2 ? Print just the result without any further informations.\",\n",
        "\"You are an expert Mathematician. You are good at performing and explaining Mathematics concepts in simple words. Help as much as you can. Here is your problem: What is the solution of (6*8)/2 ? Print just the result without any further informations.\",\n",
        "\"You are an expert Mathematician. You are good at performing and explaining Mathematics concepts in simple words. Help as much as you can. Here is your problem: What is the solution of 4 to the power of 3 ? Print just the result without any further informations.\",\n",
        "\"You are an expert Mathematician. You are good at performing and explaining Mathematics concepts in simple words. Help as much as you can. Here is your problem: What is the solution of squareroot 144 ? Print just the result without any further informations.\",\n",
        "\"You are an expert Mathematician. You are good at performing and explaining Mathematics concepts in simple words. Help as much as you can. Here is your problem: What is the solution of the fractions 5/7 + 10/11 ? Print just the result without any further informations.\"\n",
        "]\n",
        "\n",
        "\n",
        "\n",
        "\n",
        "\n",
        "\n",
        "# define function that extracts float number after \"is \", so the answer to the prompt\n",
        "\n",
        "\n",
        "def extract_math_answer(text):\n",
        "   # Pattern to match \"is\" followed by a number (including decimals and negative numbers)\n",
        "   pattern = r'is\\s+(-?\\d+(?:\\.\\d+)?)'\n",
        "   # Find the first match in the text\n",
        "   match = re.search(pattern, text)\n",
        "   # If a match is found, return it as a float\n",
        "   if match:\n",
        "       return float(match.group(1))\n",
        "   # If no match is found, return None\n",
        "   return None\n",
        "\n",
        "\n",
        "\n",
        "\n",
        "# define function prompting the LLM, takes the prompt as parameter\n",
        "\n",
        "\n",
        "def get_completion_model(text):\n",
        "   system = f\"\"\"\n",
        "   You are an expert Mathematician.\n",
        "   You are good at performing and explaining Mathematics concepts in simple words.\n",
        "   Always end your response with 'The answer is X' where X is the final numerical result.\n",
        "   Help as much as you can.\n",
        "   \"\"\"\n",
        "   prompt = f\"#### System: {system}\\n#### User : \\n {text} \\n\\n#### Response from Yi:\"\n",
        "   #print(prompt)\n",
        "   model_response = model_pipeline(prompt, max_new_tokens=500)\n",
        "   answer = model_response[0][\"generated_text\"]\n",
        "   #print(answer)\n",
        "   final = extract_math_answer(answer)\n",
        "   return final\n",
        "\n",
        "\n",
        "\n",
        "\n",
        "# Define the test names (for columns)\n",
        "\n",
        "\n",
        "test_names = [\n",
        "   \"Addition/Subtraction\",\n",
        "   \"Multiplication/Division\",\n",
        "   \"Power\",\n",
        "   \"Square Root\",\n",
        "   \"Fractions\"\n",
        "]\n",
        "\n",
        "\n",
        "# Create the DataFrame with the test column names\n",
        "benchmarkMathNAMEofLLM = pd.DataFrame(index=[\"GOtoNAME\"], columns=test_names)\n",
        "\n",
        "\n",
        "\n",
        "\n",
        "#Prompt and test to evaluate the LLM\n",
        "\n",
        "\n",
        "for i, prompt in enumerate(prompts):\n",
        "   try:\n",
        "       # Measure the time it took to generate the code\n",
        "       torch.manual_seed(0)\n",
        "       start_time = time.time()\n",
        "       math = get_completion_model(prompt)\n",
        "       end_time = time.time()\n",
        "       generation_time = end_time - start_time\n",
        "\n",
        "       if math:\n",
        "           # Test the math\n",
        "           if prompt.startswith(\"You are an expert Mathematician. You are good at performing and explaining Mathematics concepts in simple words. Help as much as you can. Here is your problem: What is the solution of (3+8)-2 ?\"):\n",
        "               result = int(math) == 9\n",
        "               print(f\"Add/Sub test: {result}\")\n",
        "           elif prompt.startswith(\"You are an expert Mathematician. You are good at performing and explaining Mathematics concepts in simple words. Help as much as you can. Here is your problem: What is the solution of (6*8)/2 ?\"):\n",
        "               result = int(math) == 24\n",
        "               print(f\"Mult/Div test: {result}\")\n",
        "           elif prompt.startswith(\"You are an expert Mathematician. You are good at performing and explaining Mathematics concepts in simple words. Help as much as you can. Here is your problem: What is the solution of 4 to the power of 3 ?\"):\n",
        "               result = int(math) == 64\n",
        "               print(f\"Power test: {result}\")\n",
        "           elif prompt.startswith(\"You are an expert Mathematician. You are good at performing and explaining Mathematics concepts in simple words. Help as much as you can. Here is your problem: What is the solution of squareroot 144 ?\"):\n",
        "               result = int(math) == 12\n",
        "               print(f\"SQRT test: {result}\")\n",
        "           elif prompt.startswith(\"You are an expert Mathematician. You are good at performing and explaining Mathematics concepts in simple words. Help as much as you can. Here is your problem: What is the solution of the fractions 5/7 + 10/11 ?\"):\n",
        "               result = math == 125/77\n",
        "               print(f\"Fractions test: {result}\")\n",
        "\n",
        "       # Store the result in the DataFrame using the test name\n",
        "       benchmarkMathNAMEofLLM.at[\"GOtoNAME\", test_names[i]] = f\"{('Yes' if result else 'No')} ({generation_time:.2f}s)\"\n",
        "   except Exception as e:\n",
        "       # Catch any exceptions, including GPU crashes\n",
        "       benchmarkMathNAMEofLLM.at[\"GOtoNAME\", test_names[i]] = f\"Error: {e}\"\n",
        "\n",
        "\n",
        "# Print the benchmark table\n",
        "print(benchmarkMathNAMEofLLM)"
      ],
      "metadata": {
        "id": "A3m_pLdhz9rq"
      },
      "execution_count": null,
      "outputs": []
    },
    {
      "cell_type": "code",
      "source": [
        "benchmarkMathNAMEofLLM.head()"
      ],
      "metadata": {
        "id": "hY5GDi4nz9rr"
      },
      "execution_count": null,
      "outputs": []
    },
    {
      "cell_type": "code",
      "source": [
        "model_pipeline = None\n",
        "gc.collect()\n",
        "torch.cuda.empty_cache()"
      ],
      "metadata": {
        "id": "86_kCUAwz9rr"
      },
      "execution_count": null,
      "outputs": []
    },
    {
      "cell_type": "code",
      "source": [
        "! nvidia-smi"
      ],
      "metadata": {
        "id": "ju13r-tmz9rr"
      },
      "execution_count": null,
      "outputs": []
    },
    {
      "cell_type": "code",
      "source": [
        "from tabulate import tabulate\n",
        "\n",
        "\n",
        "class color:\n",
        "  PURPLE = '\\033[95m'\n",
        "  CYAN = '\\033[96m'\n",
        "  DARKCYAN = '\\033[36m'\n",
        "  BLUE = '\\033[94m'\n",
        "  GREEN = '\\033[92m'\n",
        "  YELLOW = '\\033[93m'\n",
        "  RED = '\\033[91m'\n",
        "  BOLD = '\\033[1m'\n",
        "  UNDERLINE = '\\033[4m'\n",
        "  END = '\\033[0m'\n",
        "\n",
        "\n",
        "\n",
        "# Define the test names for Code\n",
        "test_names_Code = [\n",
        "   \"Print Hello World test\",\n",
        "   \"Vowel Count test\",\n",
        "   \"Reverse List test\",\n",
        "   \"Remove Duplicates test\",\n",
        "   \"Even/Odd test\"\n",
        "]\n",
        "\n",
        "\n",
        "# Define the test names for Math\n",
        "test_names_Math = [\n",
        "   \"Addition/Subtraction\",\n",
        "   \"Multiplication/Division\",\n",
        "   \"Power\",\n",
        "   \"Square Root\",\n",
        "   \"Fractions\"\n",
        "]\n",
        "\n",
        "\n",
        "\n",
        "\n",
        "# NAMEofLLM\n",
        "print(color.BOLD + \"\\n \\n EVALUATION for NAMEofLLM: \\n \\n\" + color.END)\n",
        "\n",
        "\n",
        "#Show the Code Benchmark\n",
        "print(\"Code Evaluations for NAMEofLLM:\")\n",
        "print(tabulate(benchmarkCodeNAMEofLLM, headers=test_names_Code, tablefmt='fancy_grid'))\n",
        "\n",
        "\n",
        "#Show the Math Benchmark\n",
        "print(\"\\n \\n Math Evaluations for NAMEofLLM:\")\n",
        "print(tabulate(benchmarkMathNAMEofLLM, headers=test_names_Math, tablefmt='fancy_grid'))"
      ],
      "metadata": {
        "id": "hWMfUMFuz9rr"
      },
      "execution_count": null,
      "outputs": []
    }
  ]
}